{
 "cells": [
  {
   "cell_type": "markdown",
   "metadata": {},
   "source": [
    "# Project 4: Autonomous driving\n",
    "### Train a Smartcab to Drive"
   ]
  },
  {
   "cell_type": "markdown",
   "metadata": {},
   "source": [
    "## Overview"
   ]
  },
  {
   "cell_type": "markdown",
   "metadata": {},
   "source": [
    "A smartcab is a self-driving car from the not-so-distant future that ferries people from one arbitrary location to another. In this project, you will use reinforcement learning to train a smartcab how to drive."
   ]
  },
  {
   "cell_type": "markdown",
   "metadata": {},
   "source": [
    "### 1. Environment\n",
    "Your smartcab operates in an idealized grid-like city, with roads going North-South and East-West. Other vehicles may be present on the roads, but no pedestrians. There is a traffic light at each intersection that can be in one of two states: North-South open or East-West open.\n",
    "\n",
    "US right-of-way rules apply: On a green light, you can turn left only if there is no oncoming traffic at the intersection coming straight. On a red light, you can turn right if there is no oncoming traffic turning left or traffic from the left going straight.\n",
    "\n",
    "To understand how to correctly yield to oncoming traffic when turning left, you may refer to this [official drivers education video](https://www.youtube.com/watch?v=TW0Eq2Q-9Ac), or this [passionate exposition](https://www.youtube.com/watch?v=0EdkxI6NeuA)."
   ]
  },
  
  {
   "cell_type": "code",
   "execution_count": 1,
   "metadata": {
    "collapsed": false
   },
   "outputs": [

    {
     "data": {
      "text/plain": []
     },
     "execution_count": 1,
     "metadata": {},
     "output_type": "execute_result"
    },
    {
     "data": {
      "image/png": "[encoded data removed]",
      "text/plain": []
     },
     "metadata": {},
     "output_type": "display_data"
    }
    
    ],
   "source": [
    
    "#Smartcab Environment"
    
   ]
  },
  
  {
   "cell_type": "markdown",
   "metadata": {},
   "source": [
    "### 2. Inputs\n",
    "Assume that a higher-level planner assigns a route to the smartcab, splitting it into waypoints at each intersection. And time in this world is quantized. At any instant, the smartcab is at some intersection. Therefore, the next waypoint is always either one block straight ahead, one block left, one block right, one block back or exactly there (reached the destination).\n",
    "\n",
    "The smartcab only has an egocentric view of the intersection it is currently at (sorry, no accurate GPS, no global location). It is able to sense whether the traffic light is green for its direction of movement (heading), and whether there is a car at the intersection on each of the incoming roadways (and which direction they are trying to go).\n",
    "\n",
    "In addition to this, each trip has an associated timer that counts down every time step. If the timer is at 0 and the destination has not been reached, the trip is over, and a new one may start."
   ]
  },
  
  {
   "cell_type": "markdown",
   "metadata": {},
   "source": [
    "### 3. Outputs\n",
    "At any instant, the smartcab can either stay put at the current intersection, move one block forward, one block left, or one block right (no backward movement)."
   ]
  },
  
  {
   "cell_type": "markdown",
   "metadata": {},
   "source": [
    "### 4. Rewards\n",
    "The smartcab gets a reward for each successfully completed trip. A trip is considered \"successfully completed\" if the passenger is dropped off at the desired destination (some intersection) within a pre-specified time bound (computed with a route plan).\n",
    "\n",
    "It also gets a smaller reward for each correct move executed at an intersection. It gets a small penalty for an incorrect move, and a larger penalty for violating traffic rules and/or causing an accident."
   ]
  },
  
  {
   "cell_type": "markdown",
   "metadata": {},
   "source": [
    "### 5. Goal\n",
    "Design the AI driving agent for the smartcab. It should receive the above-mentioned inputs at each time step t, and generate an output move. Based on the rewards and penalties it gets, the agent should learn an optimal policy for driving on city roads, obeying traffic rules correctly, and trying to reach the destination within a goal time."
   ]
  },
 
  {
   "cell_type": "markdown",
   "metadata": {},
   "source": [
    "### 6. Setup\n",
    "You need Python 2.7 and pygame for this project: [pygame](https://www.pygame.org/wiki/GettingStarted)\n",
    "\n",
    "For help with installation, it is best to reach out to the pygame community [help page](http://www.pygame.org/wiki/info), [Google group](https://groups.google.com/forum/#!forum/pygame-mirror-on-google-groups), [reddit](https://www.reddit.com/r/pygame/)."
   ]
  }, 
  
  {
   "cell_type": "markdown",
   "metadata": {},
   "source": [
    "### 7. Download\n",
    "Download [smartcab](https://github.com/udacity/machine-learning/tree/master/projects/smartcab), unzip and open the template Python file agent.py (do not modify any other file). Perform the following tasks to build your agent, referring to instructions mentioned in README.md as well as inline comments in agent.py.\n",
    "\n",
    "Also create a project report (e.g. Word or Google doc), and start addressing the questions indicated in italics below. When you have finished the project, save/download the report as a PDF and turn it in with your code."
   ]
  }, 
 
  {
   "cell_type": "markdown",
   "metadata": {},
   "source": [
    "## Tasks"
   ]
  },
  
  {
   "cell_type": "markdown",
   "metadata": {},
   "source": [
    "## Implement a basic driving agent"
   ]
  },
  
  {
   "cell_type": "markdown",
   "metadata": {},
   "source": [
    "### 8. Data Preprocessing\n",
    "Implement the basic driving agent, which processes the following inputs at each time step:\n",
    "\n",
    "   * Next waypoint location, relative to its current location and heading,\n",
    "   * Intersection state (traffic light and presence of cars), and,\n",
    "   * Current deadline value (time steps remaining),\n",
    "\n",
    "And produces some random move/action (None, 'forward', 'left', 'right'). Don’t try to implement the correct strategy! That’s exactly what your agent is supposed to learn.\n",
    "\n",
    "Run this agent within the simulation environment with enforce_deadline set to False (see run function in agent.py), and observe how it performs. In this mode, the agent is given unlimited time to reach the destination. The current state, action taken by your agent and reward/penalty earned are shown in the simulator.\n",
    "\n",
    "In your report, mention what you see in the agent’s behavior. Does it eventually make it to the target location?"
   ]
  },  
 
   {
   "cell_type": "markdown",
   "metadata": {},
   "source": [
    "##At first \n",
    "these were the approaches that I considered: complete randomness, q-learning, and greedy approach algorithm. Because the q-learning algorithm was the second part of the project I went for the Greedy approach algorithm. Of course algorithms designed to select the best moves (greedy algorithm and q-learning) do better than complete randomness. The agent that uses the greedy approach is called LearningAgent and can be found in the agent.py file.\n"
   ]
  }, 
 
  
  {
   "cell_type": "markdown",
   "metadata": {},
   "source": [
    "### 9. Identify and update state\n",
    "Identify a set of states that you think are appropriate for modeling the driving agent. The main source of state variables are current inputs, but not all of them may be worth representing. Also, you can choose to explicitly define states, or use some combination (vector) of inputs as an implicit state.\n",
    "\n",
    "At each time step, process the inputs and update the current state. Run it again (and as often as you need) to observe how the reported state changes through the run.\n",
    "\n",
    "Justify why you picked these set of states, and how they model the agent and its environment."
   ]
  },
  
  {
   "cell_type": "markdown",
   "metadata": {},
   "source": [
    "### 10. Implement Q-Learning\n",
    "Implement the Q-Learning algorithm by initializing and updating a table/mapping of Q-values at each time step. Now, instead of randomly selecting an action, pick the best action available from the current state based on Q-values, and return that.\n",
    "\n",
    "Each action generates a corresponding numeric reward or penalty (which may be zero). Your agent should take this into account when updating Q-values. Run it again, and observe the behavior.\n",
    "\n",
    "What changes do you notice in the agent’s behavior?"
   ]
  },

  {
   "cell_type": "code",
   "execution_count": 10,
   "metadata": {
    "collapsed": false
   },
   "outputs": [
    {
     "data": {
      "text/plain": [
       "Student data read successfully!"
      ]
     },
     "execution_count": 10,
     "metadata": {},
     "output_type": "execute_result"
    }
   ],
   "source": [
    "# Read student data\n",
    "student_data = pd.read_csv(\"student-data.csv\")\n",
    "print \"Student data read successfully!\"\n",
    "# Note: The last column 'passed' is the target/label, all other are feature columns"
   ]
  },  

  {
   "cell_type": "code",
   "execution_count": 10,
   "metadata": {
    "collapsed": false
   },
   "outputs": [

    {
     "data": {
      "text/plain": []
     },
     "execution_count": 10,
     "metadata": {},
     "output_type": "execute_result"
    },
    {
     "data": {
      "image/png": "[encoded data removed]",
      "text/plain": []
     },
     "metadata": {},
     "output_type": "display_data"
    }
    
    ],
   "source": [
    
    "#Image10"
    
   ]
  },  

  {
   "cell_type": "markdown",
   "metadata": {},
   "source": [
    "### 11. Enhance the driving agent\n",
    "Apply the reinforcement learning techniques you have learnt, and tweak the parameters (e.g. learning rate, discount factor, action selection method, etc.), to improve the performance of your agent. Your goal is to get it to a point so that within 100 trials, the agent is able to learn a feasible policy - i.e. reach the destination within the allotted time, with net reward remaining positive.\n",
    "\n",
    "Report what changes you made to your basic implementation of Q-Learning to achieve the final version of the agent. How well does it perform?\n",
    "\n",
    "Does your agent get close to finding an optimal policy, i.e. reach the destination in the minimum possible time, and not incur any penalties?"
   ]
  },

  {
   "cell_type": "code",
   "execution_count": 11,
   "metadata": {
    "collapsed": false
   },
   "outputs": [
    {
     "data": {
      "text/plain": [
       "Student data read successfully!"
      ]
     },
     "execution_count": 11,
     "metadata": {},
     "output_type": "execute_result"
    }
   ],
   "source": [
    "# Read student data\n",
    "student_data = pd.read_csv(\"student-data.csv\")\n",
    "print \"Student data read successfully!\"\n",
    "# Note: The last column 'passed' is the target/label, all other are feature columns"
   ]
  },  

  {
   "cell_type": "code",
   "execution_count": 11,
   "metadata": {
    "collapsed": false
   },
   "outputs": [

    {
     "data": {
      "text/plain": []
     },
     "execution_count": 11,
     "metadata": {},
     "output_type": "execute_result"
    },
    {
     "data": {
      "image/png": "[encoded data removed]",
      "text/plain": []
     },
     "metadata": {},
     "output_type": "display_data"
    }
    
    ],
   "source": [
    
    "#Image11"
    
   ]
  },  

  {
   "cell_type": "markdown",
   "metadata": {},
   "source": [
    "### 12. Evaluation\n",
    "Your project will be reviewed by a Udacity reviewer against this [rubric](https://review.udacity.com/?_ga=1.255373640.1999700671.1454352564#!/projects/5404058893/rubric). Be sure to review it thoroughly before you submit. All criteria must \"meet specificationsEvaluation\" in order to pass."
   ]
  },
  {
   "cell_type": "code",
   "execution_count": 12,
   "metadata": {
    "collapsed": false
   },
   "outputs": [
    {
     "data": {
      "text/plain": [
       "Student data read successfully!"
      ]
     },
     "execution_count": 12,
     "metadata": {},
     "output_type": "execute_result"
    }
   ],
   "source": [
    "# Read student data\n",
    "student_data = pd.read_csv(\"student-data.csv\")\n",
    "print \"Student data read successfully!\"\n",
    "# Note: The last column 'passed' is the target/label, all other are feature columns"
   ]
  },  

  {
   "cell_type": "code",
   "execution_count": 12,
   "metadata": {
    "collapsed": false
   },
   "outputs": [

    {
     "data": {
      "text/plain": []
     },
     "execution_count": 12,
     "metadata": {},
     "output_type": "execute_result"
    },
    {
     "data": {
      "image/png": "[encoded data removed]",
      "text/plain": []
     },
     "metadata": {},
     "output_type": "display_data"
    }
    
    ],
   "source": [
    
    "#Image12"
    
   ]
  }  
  
  ],
 "metadata": {
  "kernelspec": {
   "display_name": "Python 2",
   "language": "python",
   "name": "python2"
  },
  "language_info": {
   "codemirror_mode": {
    "name": "ipython",
    "version": 2
   },
   "file_extension": ".py",
   "mimetype": "text/x-python",
   "name": "python",
   "nbconvert_exporter": "python",
   "pygments_lexer": "ipython2",
   "version": "2.7.11"
  }
 },
 "nbformat": 4,
 "nbformat_minor": 0
}
